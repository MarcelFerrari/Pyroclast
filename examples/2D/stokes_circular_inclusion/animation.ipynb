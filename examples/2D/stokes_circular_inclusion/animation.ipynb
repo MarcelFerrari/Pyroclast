{
 "cells": [
  {
   "cell_type": "code",
   "execution_count": null,
   "metadata": {},
   "outputs": [],
   "source": [
    "import numpy as np\n",
    "import matplotlib.pyplot as plt\n",
    "import sys"
   ]
  },
  {
   "cell_type": "code",
   "execution_count": null,
   "metadata": {},
   "outputs": [
    {
     "name": "stdout",
     "output_type": "stream",
     "text": [
      "/Users/mferrari/local/geophysics/Pyroclast/examples/2D/stokes_circular_inclusion\n"
     ]
    }
   ],
   "source": [
    "# Show current directory\n",
    "import os"
   ]
  },
  {
   "cell_type": "code",
   "execution_count": null,
   "metadata": {},
   "outputs": [
    {
     "ename": "FileNotFoundError",
     "evalue": "[Errno 2] No such file or directory: 'frame_0001.npz'",
     "output_type": "error",
     "traceback": [
      "\u001b[0;31m---------------------------------------------------------------------------\u001b[0m",
      "\u001b[0;31mFileNotFoundError\u001b[0m                         Traceback (most recent call last)",
      "Cell \u001b[0;32mIn[3], line 5\u001b[0m\n\u001b[1;32m      3\u001b[0m nframes \u001b[38;5;241m=\u001b[39m \u001b[38;5;241m200\u001b[39m\n\u001b[1;32m      4\u001b[0m \u001b[38;5;28;01mfor\u001b[39;00m i \u001b[38;5;129;01min\u001b[39;00m \u001b[38;5;28mrange\u001b[39m(nframes):\n\u001b[0;32m----> 5\u001b[0m     f\u001b[38;5;241m=\u001b[39m\u001b[43mnp\u001b[49m\u001b[38;5;241;43m.\u001b[39;49m\u001b[43mload\u001b[49m\u001b[43m(\u001b[49m\u001b[38;5;124;43mf\u001b[39;49m\u001b[38;5;124;43m'\u001b[39;49m\u001b[38;5;124;43mframe_\u001b[39;49m\u001b[38;5;132;43;01m{\u001b[39;49;00m\u001b[38;5;28;43mstr\u001b[39;49m\u001b[43m(\u001b[49m\u001b[43mi\u001b[49m\u001b[43m)\u001b[49m\u001b[38;5;241;43m.\u001b[39;49m\u001b[43mzfill\u001b[49m\u001b[43m(\u001b[49m\u001b[38;5;241;43m4\u001b[39;49m\u001b[43m)\u001b[49m\u001b[38;5;132;43;01m}\u001b[39;49;00m\u001b[38;5;124;43m.npz\u001b[39;49m\u001b[38;5;124;43m'\u001b[39;49m\u001b[43m)\u001b[49m\n\u001b[1;32m      6\u001b[0m     raw_frames\u001b[38;5;241m.\u001b[39mappend(f)\n",
      "File \u001b[0;32m/Users/mferrari/local/geophysics/venv/lib/python3.12/site-packages/numpy/lib/_npyio_impl.py:455\u001b[0m, in \u001b[0;36mload\u001b[0;34m(file, mmap_mode, allow_pickle, fix_imports, encoding, max_header_size)\u001b[0m\n\u001b[1;32m    453\u001b[0m     own_fid \u001b[38;5;241m=\u001b[39m \u001b[38;5;28;01mFalse\u001b[39;00m\n\u001b[1;32m    454\u001b[0m \u001b[38;5;28;01melse\u001b[39;00m:\n\u001b[0;32m--> 455\u001b[0m     fid \u001b[38;5;241m=\u001b[39m stack\u001b[38;5;241m.\u001b[39menter_context(\u001b[38;5;28;43mopen\u001b[39;49m\u001b[43m(\u001b[49m\u001b[43mos\u001b[49m\u001b[38;5;241;43m.\u001b[39;49m\u001b[43mfspath\u001b[49m\u001b[43m(\u001b[49m\u001b[43mfile\u001b[49m\u001b[43m)\u001b[49m\u001b[43m,\u001b[49m\u001b[43m \u001b[49m\u001b[38;5;124;43m\"\u001b[39;49m\u001b[38;5;124;43mrb\u001b[39;49m\u001b[38;5;124;43m\"\u001b[39;49m\u001b[43m)\u001b[49m)\n\u001b[1;32m    456\u001b[0m     own_fid \u001b[38;5;241m=\u001b[39m \u001b[38;5;28;01mTrue\u001b[39;00m\n\u001b[1;32m    458\u001b[0m \u001b[38;5;66;03m# Code to distinguish from NumPy binary files and pickles.\u001b[39;00m\n",
      "\u001b[0;31mFileNotFoundError\u001b[0m: [Errno 2] No such file or directory: 'frame_0001.npz'"
     ]
    }
   ],
   "source": [
    "# Open all frames\n",
    "raw_frames = []\n",
    "nframes = 0\n",
    "for f in os.listdir():\n",
    "    if f.startswith('frame_') and f.endswith('.npz'):\n",
    "        nframes += 1\n",
    "\n",
    "print(f'Found {nframes} frames')\n",
    "\n",
    "for i in range(nframes):\n",
    "    f=np.load(f'frame_{str(i).zfill(4)}.npz')\n",
    "    raw_frames.append(f)"
   ]
  },
  {
   "cell_type": "code",
   "execution_count": null,
   "metadata": {},
   "outputs": [],
   "source": [
    "# Import modules for animation\n",
    "import matplotlib.animation as anim"
   ]
  },
  {
   "cell_type": "code",
   "execution_count": null,
   "metadata": {},
   "outputs": [],
   "source": [
    "# Set jshtml as the animation writer\n",
    "plt.rcParams['animation.html'] = 'jshtml'"
   ]
  },
  {
   "cell_type": "code",
   "execution_count": null,
   "metadata": {},
   "outputs": [],
   "source": [
    "x = np.linspace(0, 1e5, 102)\n",
    "y = np.linspace(0, 1e5, 132)\n",
    "X, Y = np.meshgrid(x, y)"
   ]
  },
  {
   "cell_type": "code",
   "execution_count": null,
   "metadata": {},
   "outputs": [],
   "source": [
    "import tqdm"
   ]
  },
  {
   "cell_type": "code",
   "execution_count": null,
   "metadata": {},
   "outputs": [],
   "source": [
    "# Animate a 2x3 plot of rho, log10(etab), log10(etap), vx, vy and p\n",
    "# the first three should be shown with imshow and the last three with contourf using the X, T meshgrid\n",
    "# All plots should have a colorbar\n",
    "\n",
    "fig, axs = plt.subplots(2, 3, figsize=(15, 10))\n",
    "\n",
    "downsample = 5\n",
    "frames = raw_frames[::downsample]\n",
    "nframes = len(frames)\n",
    "cbar_exists = False\n",
    "\n",
    "def animate(i):\n",
    "    rho = frames[i]['rho']\n",
    "    etab = frames[i]['etab']\n",
    "    etap = frames[i]['etap']\n",
    "    vx = frames[i]['vx']\n",
    "    vy = frames[i]['vy']\n",
    "    p = frames[i]['p']\n",
    "    global cbar_exists\n",
    "\n",
    "    rho_plt = axs[0, 0].imshow(rho, cmap='jet')\n",
    "    axs[0, 0].set_title('Density')\n",
    "    axs[0, 0].set_xlabel('x')\n",
    "    axs[0, 0].set_ylabel('y')\n",
    "    if not cbar_exists:\n",
    "        fig.colorbar(rho_plt, ax=axs[0, 0])\n",
    "\n",
    "    etab_plt = axs[0, 1].imshow(np.log10(etab), cmap='jet')\n",
    "    axs[0, 1].set_title('log10(etab)')\n",
    "    axs[0, 1].set_xlabel('x')\n",
    "    axs[0, 1].set_ylabel('y')\n",
    "    if not cbar_exists:\n",
    "        fig.colorbar(etab_plt, ax=axs[0, 1])\n",
    "\n",
    "\n",
    "    etap_plt = axs[0, 2].imshow(np.log10(etap), cmap='jet')\n",
    "    axs[0, 2].set_title('log10(etap)')\n",
    "    axs[0, 2].set_xlabel('x')\n",
    "    axs[0, 2].set_ylabel('y')\n",
    "    if not cbar_exists:\n",
    "        fig.colorbar(etap_plt, ax=axs[0, 2])\n",
    "\n",
    "    # axs[1, 0].contourf(X, Y, vx, cmap='jet', levels=100)\n",
    "    vx_plt = axs[1, 0].imshow(vx, cmap='jet')\n",
    "    axs[1, 0].set_title('vx')\n",
    "    axs[1, 0].set_xlabel('x')\n",
    "    axs[1, 0].set_ylabel('y')\n",
    "    if not cbar_exists:\n",
    "        fig.colorbar(vx_plt, ax=axs[1, 0])\n",
    "\n",
    "    # axs[1, 1].contourf(X, Y, vy, cmap='jet', levels=100)\n",
    "    vy_plt = axs[1, 1].imshow(vy, cmap='jet')\n",
    "    axs[1, 1].set_title('vy')\n",
    "    axs[1, 1].set_xlabel('x')\n",
    "    axs[1, 1].set_ylabel('y')\n",
    "    if not cbar_exists:\n",
    "        fig.colorbar(vy_plt, ax=axs[1, 1])\n",
    "\n",
    "    # axs[1, 2].contourf(X, Y, p, cmap='jet', levels=100)\n",
    "    p_plt = axs[1, 2].imshow(p, cmap='jet')\n",
    "    axs[1, 2].set_title('p')\n",
    "    axs[1, 2].set_xlabel('x')\n",
    "    axs[1, 2].set_ylabel('y')\n",
    "    if not cbar_exists:\n",
    "        fig.colorbar(p_plt, ax=axs[1, 2])\n",
    "\n",
    "    cbar_exists = True\n",
    "\n",
    "\n",
    "ani = anim.FuncAnimation(fig, animate, frames=nframes, interval=100)"
   ]
  },
  {
   "cell_type": "code",
   "execution_count": null,
   "metadata": {},
   "outputs": [],
   "source": [
    "# Save the animation to mp4 file\n",
    "ani.save('animation.mp4', writer='ffmpeg', fps=10)"
   ]
  }
 ],
 "metadata": {
  "kernelspec": {
   "display_name": "Python 3 (ipykernel)",
   "language": "python",
   "name": "python3"
  },
  "language_info": {
   "codemirror_mode": {
    "name": "ipython",
    "version": 3
   },
   "file_extension": ".py",
   "mimetype": "text/x-python",
   "name": "python",
   "nbconvert_exporter": "python",
   "pygments_lexer": "ipython3",
   "version": "3.12.7"
  }
 },
 "nbformat": 4,
 "nbformat_minor": 2
}
